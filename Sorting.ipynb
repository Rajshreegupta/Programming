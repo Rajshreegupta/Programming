{
 "cells": [
  {
   "cell_type": "code",
   "execution_count": null,
   "metadata": {},
   "outputs": [],
   "source": [
    "# Insertion Sort\n",
    "# Best time: O(N)\n",
    "# Worst time: O(N**2)\n",
    "# Uses: Insertion sort is used when number of elements is small. \n",
    "#      It can also be useful when input array is almost sorted, only few elements are misplaced in complete big array.\n",
    "# In place sorting\n",
    "# Stable\n",
    "\n",
    "def insertion(arr,N):\n",
    "    for i in range(1,N):\n",
    "        j=i-1\n",
    "        key = arr[i]\n",
    "        while(arr[j]>key and j>=0):\n",
    "            arr[j+1] = arr[j]\n",
    "            j = j-1\n",
    "        arr[j+1] = key\n",
    "N = int(input())\n",
    "l = list(map(int, input().split()))\n",
    "insertion(l,N)\n",
    "print(l)"
   ]
  },
  {
   "cell_type": "code",
   "execution_count": null,
   "metadata": {},
   "outputs": [],
   "source": [
    "# Selection Sort\n",
    "# best = worst = O(N**2)\n",
    "# The good thing about selection sort is it never makes more than O(n) swaps and \n",
    "# can be useful when memory write is a costly operation.\n",
    "# Not stable\n",
    "def selection(arr, N):\n",
    "    i=0\n",
    "    while(i<N):\n",
    "        min_index=i\n",
    "        j=i+1\n",
    "        while(j<N):\n",
    "            if arr[j]<arr[min_index]:\n",
    "                min_index = j\n",
    "            j+=1\n",
    "        arr[min_index], arr[i]=arr[i], arr[min_index]\n",
    "        i+=1\n",
    "\n",
    "        \n",
    "N = int(input())\n",
    "l = list(map(int, input().split()))\n",
    "selection(l,N)\n",
    "print(l)"
   ]
  },
  {
   "cell_type": "code",
   "execution_count": null,
   "metadata": {},
   "outputs": [],
   "source": [
    "# Bubble sort\n",
    "# worst case O(N**2)\n",
    "# best case = O(N)\n",
    "def bubble(arr, N):\n",
    "    for i in range(N):\n",
    "        swapped = False\n",
    "        for j in range(0,N-i-1):\n",
    "            if arr[j+1]<arr[j]:\n",
    "                arr[j+1], arr[j] = arr[j], arr[j+1]\n",
    "                swapped = True\n",
    "        if swapped==False:\n",
    "            break\n",
    "        \n",
    "N = int(input())\n",
    "l = list(map(int, input().split()))\n",
    "bubble(l,N)\n",
    "print(l)"
   ]
  },
  {
   "cell_type": "code",
   "execution_count": 4,
   "metadata": {},
   "outputs": [
    {
     "name": "stdout",
     "output_type": "stream",
     "text": [
      "6\n",
      "68 34 97 12 009 65\n",
      "[9, 12, 34, 65, 68, 97]\n"
     ]
    }
   ],
   "source": [
    "# Merge sort\n",
    "# merge sort is generally considered better when data is huge and stored in external storage.\n",
    "def merge(arr, l, m, r):\n",
    "    L=[]\n",
    "    R=[]\n",
    "    n1 = m-l+1\n",
    "    n2 = r-m\n",
    "    i=0\n",
    "    while(i<n1):\n",
    "        L.append(arr[l+i])\n",
    "        i+=1\n",
    "    i=0\n",
    "    while(i<n2):\n",
    "        R.append(arr[m+1+i])\n",
    "        i+=1\n",
    "    i=0\n",
    "    j=0\n",
    "    k=l\n",
    "    while(i<n1 and j<n2):\n",
    "        if L[i]<R[j]:\n",
    "            arr[k] = L[i]\n",
    "            i+=1\n",
    "        else:\n",
    "            arr[k] = R[j]\n",
    "            j+=1\n",
    "        k+=1\n",
    "    \n",
    "    while(i<n1):\n",
    "        arr[k] = L[i]\n",
    "        i+=1\n",
    "        k+=1\n",
    "    while(j<n2):\n",
    "        arr[k] = R[j]\n",
    "        j+=1\n",
    "        k+=1\n",
    "    \n",
    "def mergeSort(arr,l,r):\n",
    "\n",
    "    if(l<r):\n",
    "        m = l + int((r-l)/2)\n",
    "        mergeSort(arr, l, m)\n",
    "        mergeSort(arr, m+1, r)\n",
    "        \n",
    "        merge(arr, l, m, r)\n",
    "\n",
    "N = int(input())\n",
    "l = list(map(int, input().split()))\n",
    "mergeSort(l,0,N-1)\n",
    "print(l)"
   ]
  },
  {
   "cell_type": "code",
   "execution_count": 9,
   "metadata": {},
   "outputs": [
    {
     "name": "stdout",
     "output_type": "stream",
     "text": [
      "5\n",
      "8 3 58 02 7\n",
      "[2, 3, 7, 8, 58]\n"
     ]
    }
   ],
   "source": [
    "#Quick Sort\n",
    "def partition(arr, low, high):\n",
    "    pivot = arr[high]\n",
    "    i=-1\n",
    "    j=0\n",
    "    while(j<high):\n",
    "        if arr[j]<pivot:\n",
    "            i+=1\n",
    "            arr[j], arr[i] = arr[i], arr[j]\n",
    "        j+=1\n",
    "    arr[i+1], arr[high] = arr[high], arr[i+1]\n",
    "    return i+1\n",
    "    \n",
    "    \n",
    "def quicksort(arr, low, high):\n",
    "    if low<high:\n",
    "        pi = partition(arr, low, high)\n",
    "        quicksort(arr, low, pi-1)\n",
    "        quickSort(arr, pi+1, high)\n",
    "\n",
    "N = int(input())\n",
    "l = list(map(int, input().split()))\n",
    "quicksort(l,0,N-1)\n",
    "print(l)"
   ]
  },
  {
   "cell_type": "code",
   "execution_count": 16,
   "metadata": {},
   "outputs": [
    {
     "name": "stdout",
     "output_type": "stream",
     "text": [
      "5\n",
      "5 2 7 19 238\n",
      "[2, 5, 7, 19, 238]\n"
     ]
    }
   ],
   "source": [
    "# Heap Sort\n",
    "# Heap sort is an in-place algorithm\n",
    "# Time complexity of heapify is O(Logn). \n",
    "# Time complexity of createAndBuildHeap() is O(n) and \n",
    "# overall time complexity of Heap Sort is O(nLogn).\n",
    "def heapify(arr, i, n):\n",
    "    largest = i\n",
    "    l = int(2*i + 1)\n",
    "    r = int(2*i + 2)\n",
    "    if l<n and arr[l]>arr[largest]:\n",
    "        largest = l\n",
    "    if r<n and arr[r]>arr[largest]:\n",
    "        largest = r\n",
    "    if largest!=i:\n",
    "        arr[i], arr[largest] = arr[largest], arr[i]\n",
    "        heapify(arr, largest, n)\n",
    "    \n",
    "\n",
    "def heapsort(arr, N):\n",
    "    i=int(N/2-1)\n",
    "    while(i>=0):\n",
    "        heapify(arr, i, N)\n",
    "        i-=1\n",
    "    for i in range(N-1,0,-1):\n",
    "        arr[0], arr[i] = arr[i], arr[0]\n",
    "        heapify(arr,0,i)\n",
    "N = int(input())\n",
    "l = list(map(int, input().split()))\n",
    "heapsort(l,N)\n",
    "print(l)"
   ]
  },
  {
   "cell_type": "code",
   "execution_count": 39,
   "metadata": {},
   "outputs": [
    {
     "name": "stdout",
     "output_type": "stream",
     "text": [
      "5\n",
      "9 3 5 7 1\n",
      "13579"
     ]
    }
   ],
   "source": [
    "# Counting sort\n",
    "# Know that values vary from 0-9\n",
    "# O(N+k) eg here k=10 bec num varies from 0-9\n",
    "def countsort(arr, N):\n",
    "    \n",
    "    count = [0 for i in range(10)]\n",
    "    i=0\n",
    "    while(i<N):\n",
    "        count[arr[i]]+=1\n",
    "        i+=1\n",
    "    for i in range(1,10):\n",
    "        count[i]+=count[i-1]\n",
    "    output=[0 for i in range(N+1)]\n",
    "    i=0\n",
    "\n",
    "    while(i<N):\n",
    "        output[count[arr[i]]] = arr[i]\n",
    "        count[arr[i]]-=1\n",
    "        i+=1\n",
    "\n",
    "    for i in range(1,N+1):\n",
    "        print(\"%d\"%output[i],end=\"\")\n",
    "    \n",
    "N = int(input())\n",
    "l = list(map(int, input().split()))\n",
    "countsort(l,N)"
   ]
  },
  {
   "cell_type": "code",
   "execution_count": null,
   "metadata": {},
   "outputs": [],
   "source": []
  },
  {
   "cell_type": "code",
   "execution_count": null,
   "metadata": {},
   "outputs": [],
   "source": []
  }
 ],
 "metadata": {
  "kernelspec": {
   "display_name": "Python 3",
   "language": "python",
   "name": "python3"
  },
  "language_info": {
   "codemirror_mode": {
    "name": "ipython",
    "version": 3
   },
   "file_extension": ".py",
   "mimetype": "text/x-python",
   "name": "python",
   "nbconvert_exporter": "python",
   "pygments_lexer": "ipython3",
   "version": "3.6.9"
  }
 },
 "nbformat": 4,
 "nbformat_minor": 2
}
